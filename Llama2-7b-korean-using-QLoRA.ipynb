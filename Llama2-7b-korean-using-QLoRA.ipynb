{
 "cells": [
  {
   "cell_type": "code",
   "execution_count": 9,
   "id": "5b2ffedf-e368-4ede-a3fa-2ae209b9759d",
   "metadata": {
    "scrolled": true
   },
   "outputs": [],
   "source": [
    "!git remote add origin https://github.com/BaguHo/Llama2-7b-korean-using-QLoRA.git"
   ]
  },
  {
   "cell_type": "code",
   "execution_count": 6,
   "id": "3d84b9ef-92f0-41f6-9874-35eeb5eca25f",
   "metadata": {},
   "outputs": [
    {
     "name": "stdout",
     "output_type": "stream",
     "text": [
      "fatal: The current branch master has no upstream branch.\n",
      "To push the current branch and set the remote as upstream, use\n",
      "\n",
      "    git push --set-upstream origin master\n",
      "\n"
     ]
    }
   ],
   "source": [
    "!git push"
   ]
  },
  {
   "cell_type": "code",
   "execution_count": 7,
   "id": "9ac4ae35-a133-4cdc-96d1-055b5523afa4",
   "metadata": {},
   "outputs": [
    {
     "name": "stdout",
     "output_type": "stream",
     "text": [
      "error: src refspec master does not match any.\n",
      "error: failed to push some refs to 'https://github.com/smupilab/OneClassifier_CNN.git'\n"
     ]
    }
   ],
   "source": [
    "!git push --set-upstream origin master"
   ]
  },
  {
   "cell_type": "code",
   "execution_count": null,
   "id": "56456a53-3971-4226-811f-b1bd7f42d456",
   "metadata": {},
   "outputs": [],
   "source": []
  }
 ],
 "metadata": {
  "kernelspec": {
   "display_name": "Python 3 (ipykernel)",
   "language": "python",
   "name": "python3"
  },
  "language_info": {
   "codemirror_mode": {
    "name": "ipython",
    "version": 3
   },
   "file_extension": ".py",
   "mimetype": "text/x-python",
   "name": "python",
   "nbconvert_exporter": "python",
   "pygments_lexer": "ipython3",
   "version": "3.8.3"
  }
 },
 "nbformat": 4,
 "nbformat_minor": 5
}
