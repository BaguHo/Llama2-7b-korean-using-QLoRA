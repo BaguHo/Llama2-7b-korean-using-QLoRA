{
 "cells": [
  {
   "cell_type": "code",
   "execution_count": 9,
   "id": "5b2ffedf-e368-4ede-a3fa-2ae209b9759d",
   "metadata": {
    "scrolled": true
   },
   "outputs": [],
   "source": [
    "!git remote add origin https://github.com/BaguHo/Llama2-7b-korean-using-QLoRA.git"
   ]
  },
  {
   "cell_type": "code",
   "execution_count": 6,
   "id": "3d84b9ef-92f0-41f6-9874-35eeb5eca25f",
   "metadata": {},
   "outputs": [
    {
     "name": "stdout",
     "output_type": "stream",
     "text": [
      "fatal: The current branch master has no upstream branch.\n",
      "To push the current branch and set the remote as upstream, use\n",
      "\n",
      "    git push --set-upstream origin master\n",
      "\n"
     ]
    }
   ],
   "source": [
    "!git push"
   ]
  },
  {
   "cell_type": "code",
   "execution_count": 18,
   "id": "9ac4ae35-a133-4cdc-96d1-055b5523afa4",
   "metadata": {},
   "outputs": [
    {
     "name": "stdout",
     "output_type": "stream",
     "text": [
      "Username for 'https://github.com': ^C\n"
     ]
    }
   ],
   "source": [
    "!git push --set-upstream origin master"
   ]
  },
  {
   "cell_type": "code",
   "execution_count": 12,
   "id": "9c3c2a28-df12-4cf1-884d-fa032fbb931d",
   "metadata": {},
   "outputs": [],
   "source": [
    "!git add ."
   ]
  },
  {
   "cell_type": "code",
   "execution_count": 15,
   "id": "b1d58489-a709-452a-91c2-cadc56545a44",
   "metadata": {},
   "outputs": [
    {
     "name": "stdout",
     "output_type": "stream",
     "text": [
      "[master (root-commit) 30043ff] first commit\n",
      " 2 files changed, 129 insertions(+)\n",
      " create mode 100644 .ipynb_checkpoints/Llama2-7b-korean-using-QLoRA-checkpoint.ipynb\n",
      " create mode 100644 Llama2-7b-korean-using-QLoRA.ipynb\n"
     ]
    }
   ],
   "source": [
    "!git commit -m \"first commit\""
   ]
  },
  {
   "cell_type": "code",
   "execution_count": 21,
   "id": "db229ef5-1778-42b5-9b72-a1acfd90fc8b",
   "metadata": {},
   "outputs": [
    {
     "name": "stdout",
     "output_type": "stream",
     "text": [
      "Username for 'https://github.com': ^C\n"
     ]
    }
   ],
   "source": [
    "!git push origin master"
   ]
  },
  {
   "cell_type": "code",
   "execution_count": null,
   "id": "34ea6754-efba-4da0-80a2-af1a8645cc2d",
   "metadata": {},
   "outputs": [],
   "source": []
  }
 ],
 "metadata": {
  "kernelspec": {
   "display_name": "Python 3 (ipykernel)",
   "language": "python",
   "name": "python3"
  },
  "language_info": {
   "codemirror_mode": {
    "name": "ipython",
    "version": 3
   },
   "file_extension": ".py",
   "mimetype": "text/x-python",
   "name": "python",
   "nbconvert_exporter": "python",
   "pygments_lexer": "ipython3",
   "version": "3.8.3"
  }
 },
 "nbformat": 4,
 "nbformat_minor": 5
}
