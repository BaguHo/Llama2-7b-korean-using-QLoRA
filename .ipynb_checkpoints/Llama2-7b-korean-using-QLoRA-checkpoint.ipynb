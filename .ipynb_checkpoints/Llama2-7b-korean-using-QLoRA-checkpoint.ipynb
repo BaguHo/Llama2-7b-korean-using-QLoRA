{
 "cells": [
  {
   "cell_type": "code",
   "execution_count": null,
   "id": "5b2ffedf-e368-4ede-a3fa-2ae209b9759d",
   "metadata": {},
   "outputs": [],
   "source": [
    "!apt-get upgrade -y"
   ]
  },
  {
   "cell_type": "code",
   "execution_count": null,
   "id": "a52bc8ae-a037-4dfe-b5e5-69a328cbb49a",
   "metadata": {},
   "outputs": [],
   "source": []
  }
 ],
 "metadata": {
  "kernelspec": {
   "display_name": "Python 3 (ipykernel)",
   "language": "python",
   "name": "python3"
  },
  "language_info": {
   "codemirror_mode": {
    "name": "ipython",
    "version": 3
   },
   "file_extension": ".py",
   "mimetype": "text/x-python",
   "name": "python",
   "nbconvert_exporter": "python",
   "pygments_lexer": "ipython3",
   "version": "3.8.3"
  }
 },
 "nbformat": 4,
 "nbformat_minor": 5
}
